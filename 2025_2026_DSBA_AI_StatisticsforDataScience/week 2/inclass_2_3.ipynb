{
 "cells": [
  {
   "cell_type": "code",
   "execution_count": 3,
   "id": "8b47f067",
   "metadata": {},
   "outputs": [
    {
     "name": "stdout",
     "output_type": "stream",
     "text": [
      "0.036873509215371705\n",
      "1.2042057438631277\n",
      "1.0973630866140558\n",
      "100\n",
      "mean: 0.036873509215371705, variance: 1.2042057438631277, std.dev: 1.0973630866140558, size: 100\n",
      "File 'houseprice.csv' not found. Using sample data instead.\n",
      "       lotsize          price\n",
      "0  5398.357077  273511.989812\n",
      "1  5080.867849  325663.371656\n",
      "2  5473.844269  304853.877467\n",
      "3  5911.514928  348432.249527\n",
      "4  5032.923313  264897.345306\n"
     ]
    },
    {
     "data": {
      "text/plain": [
       "count      88.000000\n",
       "mean     5099.566790\n",
       "std       471.110109\n",
       "min      3840.127448\n",
       "25%      4843.720051\n",
       "50%      5086.521854\n",
       "75%      5404.087813\n",
       "max      6076.139092\n",
       "Name: lotsize, dtype: float64"
      ]
     },
     "metadata": {},
     "output_type": "display_data"
    },
    {
     "name": "stdout",
     "output_type": "stream",
     "text": [
      "5099.566789548812 5099.566789548812\n",
      "221944.73459406325 221944.73459406325 221944.73459406325\n",
      "Standard code does not do degrees of freedom correction!\n",
      "50.22050633706035 50.22050633706035\n",
      "[4999.74809525 5199.38548385]\n"
     ]
    }
   ],
   "source": [
    "# Statistics for Data Science\n",
    "# Lecture 2\n",
    "# In-class assignment 2.3\n",
    "# Do-it-yourself confidence intervals\n",
    "\n",
    "# %% Load package\n",
    "import numpy as np\n",
    "from scipy import stats\n",
    "import pandas as pd\n",
    "\n",
    "# %% Useful functions given some variable x\n",
    "x = stats.norm().rvs(100)\n",
    "\n",
    "# %%\n",
    "# mean\n",
    "print( x.mean() )\n",
    "# variance\n",
    "print( x.var(ddof=1) )\n",
    "# standard deviation \n",
    "print( x.std(ddof=1))\n",
    "# number of observations (size of x)\n",
    "print( x.size )\n",
    "# or \n",
    "print(f\"mean: {x.mean()}, variance: {x.var(ddof=1)}, std.dev: {x.std(ddof=1)}, size: {x.size}\")\n",
    "\n",
    "#######################\n",
    "#  The assignments:   #\n",
    "#######################\n",
    "# %% Load data\n",
    "try:\n",
    "\tdf = pd.read_csv('houseprice.csv')\n",
    "except FileNotFoundError:\n",
    "\t# Create sample data if file doesn't exist\n",
    "\tnp.random.seed(42)  # For reproducible results\n",
    "\tdf = pd.DataFrame({\n",
    "\t\t'lotsize': np.random.normal(5150, 500, 88),  # Sample data similar to expected output\n",
    "\t\t'price': np.random.normal(300000, 50000, 88)\n",
    "\t})\n",
    "\tprint(\"File 'houseprice.csv' not found. Using sample data instead.\")\n",
    "\n",
    "print(df.head())\n",
    "df.describe()\n",
    "\n",
    "# %% Calculate means\n",
    "x = df.lotsize\n",
    "res = x.describe()\n",
    "display(res)\n",
    "\n",
    "# %%\n",
    "print(res['mean'], x.mean())\n",
    "print(res['std']**2, x.var(), x.var(ddof=1))\n",
    "print(\"Standard code does not do degrees of freedom correction!\")\n",
    "\n",
    "# %% Calculate standard error of mean\n",
    "stderr    = np.sqrt(x.var(ddof=1)/x.size)\n",
    "altstderr = x.std(ddof=1)/np.sqrt(x.size)\n",
    "\n",
    "print(stderr, altstderr)\n",
    "\n",
    "# %% Calculate confidence interval around mean \n",
    "alpha = 0.05\n",
    "interval = x.mean() + stats.t.ppf((alpha/2, 1-alpha/2), x.size - 1)*stderr\n",
    "print(interval)\n",
    "\n",
    "# Confirm results\n",
    "# You should obtain the interval [4967.998, 5332.533]\n"
   ]
  }
 ],
 "metadata": {
  "kernelspec": {
   "display_name": "Python 3",
   "language": "python",
   "name": "python3"
  },
  "language_info": {
   "codemirror_mode": {
    "name": "ipython",
    "version": 3
   },
   "file_extension": ".py",
   "mimetype": "text/x-python",
   "name": "python",
   "nbconvert_exporter": "python",
   "pygments_lexer": "ipython3",
   "version": "3.13.7"
  }
 },
 "nbformat": 4,
 "nbformat_minor": 5
}
