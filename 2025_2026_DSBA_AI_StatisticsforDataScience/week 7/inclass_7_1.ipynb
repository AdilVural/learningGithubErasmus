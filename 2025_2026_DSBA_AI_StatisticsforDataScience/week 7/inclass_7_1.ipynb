{
 "cells": [
  {
   "cell_type": "markdown",
   "id": "3daf7363",
   "metadata": {},
   "source": [
    "# Statistics for Data Science\n",
    "Lecture 7  \n",
    "In-class assignment 7.1  \n",
    "Experiment with Beta priors and prior/posterior calculations"
   ]
  },
  {
   "cell_type": "code",
   "execution_count": 1,
   "id": "691657d6",
   "metadata": {},
   "outputs": [],
   "source": [
    "# Import packages\n",
    "# in a terminal (set to your virtual environment): pip install ipywidgets prettytable\n",
    "\n",
    "import numpy as np\n",
    "import matplotlib.pyplot as plt\n",
    "from ipywidgets import interact, FloatSlider\n",
    "from scipy import stats\n",
    "from prettytable import PrettyTable"
   ]
  },
  {
   "cell_type": "markdown",
   "id": "7664878a",
   "metadata": {},
   "source": [
    "# Step 1"
   ]
  },
  {
   "cell_type": "code",
   "execution_count": 2,
   "id": "c7a2f4b3",
   "metadata": {},
   "outputs": [
    {
     "data": {
      "application/vnd.jupyter.widget-view+json": {
       "model_id": "221822eb25104d33b2adc150c0b2ca63",
       "version_major": 2,
       "version_minor": 0
      },
      "text/plain": [
       "interactive(children=(FloatSlider(value=0.5, description='alpha', max=10.0, min=0.1), FloatSlider(value=1.0, d…"
      ]
     },
     "metadata": {},
     "output_type": "display_data"
    }
   ],
   "source": [
    "# Create interactive plot of beta distribution (no need to be able to do this yourself at this moment)\n",
    "def plot_beta(alpha=1.0, beta=1.0):\n",
    "    x = np.linspace(0.001, 0.999, 1000)\n",
    "    y = stats.beta(alpha,beta).pdf(x)\n",
    "    \n",
    "    plt.figure(figsize=(10, 4))\n",
    "    plt.plot(x, y, label=f'Density of Beta({round(alpha,3)}, {round(beta,3)})')\n",
    "    plt.title('Interactive plot of Beta density')\n",
    "    plt.xlabel('prob')\n",
    "    plt.ylabel('density')\n",
    "    plt.ylim(0, y.max()*1.1)\n",
    "    plt.legend()\n",
    "    plt.grid(True)\n",
    "    plt.show()\n",
    "    \n",
    "interact(\n",
    "    plot_beta,\n",
    "    alpha=FloatSlider(value=0.5, min=0.1, max=10.0, step=0.1, description='alpha'),\n",
    "    beta =FloatSlider(value=1.0, min=0.1, max=10.0, step=0.1, description='beta')\n",
    ");"
   ]
  },
  {
   "cell_type": "markdown",
   "id": "14a20755",
   "metadata": {},
   "source": [
    "# Questions \n",
    "(use the sliders to change alpha and beta in the plot => you can also use the arrow keys)\n",
    "- When do you get a symmetric distribution?\n",
    "- How do you code a belief that the probability is above 0.8?\n",
    "- You may also want to use the `stats.beta(a,b).pdf(x)`, `stats.beta(a,b).cdf(x)`, `stats.beta(a,b).rvs(n)`, `stats.beta(a,b).ppf(q)`, and `stats.beta(a,b).mean()` functions\n",
    "- How do you code a belief that the probability is extreme (close to 0 or close to 1)?"
   ]
  },
  {
   "cell_type": "code",
   "execution_count": null,
   "id": "2e6929b2",
   "metadata": {},
   "outputs": [],
   "source": []
  },
  {
   "cell_type": "markdown",
   "id": "fd0800ec",
   "metadata": {},
   "source": [
    "# Step 2"
   ]
  },
  {
   "cell_type": "code",
   "execution_count": 3,
   "id": "5cd5a16f",
   "metadata": {},
   "outputs": [
    {
     "data": {
      "image/png": "[encoded data removed]",
      "text/plain": [
       "<Figure size 640x480 with 1 Axes>"
      ]
     },
     "metadata": {},
     "output_type": "display_data"
    }
   ],
   "source": [
    "# Create some data from a Bernouilli distribution\n",
    "np.random.seed(12345) # To ensure reproducability\n",
    "\n",
    "N = 100\n",
    "p_true = 0.7\n",
    "data = stats.binom(p=p_true, n=1).rvs(N)\n",
    "\n",
    "plt.hist(data)\n",
    "plt.title(\"Data: Frequency of outcomes\");"
   ]
  },
  {
   "cell_type": "markdown",
   "id": "355abddf",
   "metadata": {},
   "source": [
    "Maximum likelihood/frequentist estimator of probability of heads equals"
   ]
  },
  {
   "cell_type": "code",
   "execution_count": 4,
   "id": "689539ab",
   "metadata": {},
   "outputs": [
    {
     "data": {
      "text/plain": [
       "np.float64(0.61)"
      ]
     },
     "execution_count": 4,
     "metadata": {},
     "output_type": "execute_result"
    }
   ],
   "source": [
    "data.mean()"
   ]
  },
  {
   "cell_type": "code",
   "execution_count": 6,
   "id": "392c46c3",
   "metadata": {},
   "outputs": [
    {
     "data": {
      "application/vnd.jupyter.widget-view+json": {
       "model_id": "330a72d8d18048968b672eb204cd5175",
       "version_major": 2,
       "version_minor": 0
      },
      "text/plain": [
       "interactive(children=(FloatSlider(value=0.5, description='alpha', min=0.1), FloatSlider(value=1.0, description…"
      ]
     },
     "metadata": {},
     "output_type": "display_data"
    }
   ],
   "source": [
    "# Some code to create an interactive plot of prior, likelihood and posterior (no need to understand details)\n",
    "\n",
    "def log_likelihood(p):\n",
    "   return np.sum(np.log(p)*data + np.log(1-p)*(1-data))\n",
    "\n",
    "def plot_posterior(alpha=1.0, beta=1.0):\n",
    "    x = np.linspace(0.001, 0.999, 1000)   \n",
    "    prior = stats.beta(alpha,beta)\n",
    "    priorpdf = prior.pdf(x)\n",
    "    \n",
    "    plt.figure(figsize=(10, 4))\n",
    "    plt.plot(x, priorpdf, label=f'Prior Beta({round(alpha,3)}, {round(beta,3)})')\n",
    "    # plt.title('Interactive plot of Beta density')\n",
    "      \n",
    "    llik = [log_likelihood(p) for p in x]\n",
    "\n",
    "    llik = llik - np.max(llik) + np.log(stats.beta(data.sum(), data.size - data.sum()).pdf(data.mean()))\n",
    "    lik  = np.exp(llik)\n",
    "    \n",
    "    plt.plot(x, lik, label=f'Likelihood (scaled)')\n",
    "    \n",
    "    posterior = stats.beta(alpha +data.sum(), beta + data.size - data.sum())\n",
    "    posteriorpdf = posterior.pdf(x)\n",
    "    plt.plot(x, posteriorpdf, label=f'Posterior')\n",
    "    \n",
    "    table = PrettyTable()\n",
    "    table.field_names = ['', \"Point estimate\", \"Est.Var\", \"Est.Std\", \"Interval Low\", \"Interval High\"]\n",
    "    table.add_row([\"Prior\", prior.mean(), prior.var(), prior.std(), prior.ppf(0.025), prior.ppf(0.975)])\n",
    "    table.add_row([\"Posterior\", posterior.mean(), posterior.var(), posterior.std(), posterior.ppf(0.025), posterior.ppf(0.975)])\n",
    "    \n",
    "    stderrmean = np.sqrt(data.var(ddof=1)/data.size)\n",
    "    table.add_row([\"Frequentist\", data.mean(), stderrmean**2, stderrmean, data.mean() - stats.t(data.size-1).ppf(0.975)*stderrmean, data.mean() + stats.t(data.size-1).ppf(0.975)*stderrmean])\n",
    "    table.float_format = \".3\"\n",
    "    \n",
    "    print(\"Estimation statistics\")\n",
    "    print(table)\n",
    "    \n",
    "    plt.xlabel('prob')\n",
    "    plt.ylabel('density')\n",
    "    plt.title('Prior (blue) x Likelihood (orange) = Posterior (green)')\n",
    "    plt.ylim(0, np.max([priorpdf.max(), posteriorpdf.max(), lik.max()])*1.1)\n",
    "    plt.legend()\n",
    "    plt.grid(True)\n",
    "    plt.show()\n",
    "    \n",
    "interact(\n",
    "    plot_posterior,    \n",
    "    alpha=FloatSlider(value=0.5, min=0.1, max=100.0, step=0.1, description='alpha'),\n",
    "    beta=FloatSlider(value=1.0, min=0.1, max=100.0, step=0.1, description='beta')\n",
    ");"
   ]
  },
  {
   "cell_type": "markdown",
   "id": "32494108",
   "metadata": {},
   "source": [
    "\n",
    "# Questions\n",
    "- For what setting of alpha and beta does the posterior mean equal the frequentist estimator?\n",
    "- What happens when alpha=beta=high?\n",
    "- What happens when alpha=large and beta=small?"
   ]
  },
  {
   "cell_type": "code",
   "execution_count": null,
   "id": "6b3aefc8",
   "metadata": {},
   "outputs": [],
   "source": []
  }
 ],
 "metadata": {
  "kernelspec": {
   "display_name": ".venv",
   "language": "python",
   "name": "python3"
  },
  "language_info": {
   "codemirror_mode": {
    "name": "ipython",
    "version": 3
   },
   "file_extension": ".py",
   "mimetype": "text/x-python",
   "name": "python",
   "nbconvert_exporter": "python",
   "pygments_lexer": "ipython3",
   "version": "3.12.3"
  }
 },
 "nbformat": 4,
 "nbformat_minor": 5
}
